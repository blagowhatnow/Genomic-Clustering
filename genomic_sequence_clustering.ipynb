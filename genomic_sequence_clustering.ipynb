{
 "cells": [
  {
   "cell_type": "code",
   "execution_count": 1,
   "id": "7c081924",
   "metadata": {},
   "outputs": [],
   "source": [
    "# using data from https://github.com/jordancheah/DNA-FASTA-Python\n",
    "\n",
    "import Bio\n",
    "import numpy as np\n",
    "import matplotlib.pyplot as plt"
   ]
  },
  {
   "cell_type": "code",
   "execution_count": 2,
   "id": "381a7f7f",
   "metadata": {},
   "outputs": [],
   "source": [
    "seqs=[]\n",
    "\n",
    "from Bio import SeqIO\n",
    "for sequence in SeqIO.parse('dna3.fasta', \"fasta\"):\n",
    "    seqs.append(sequence.seq)"
   ]
  },
  {
   "cell_type": "code",
   "execution_count": 3,
   "id": "93cfcb9e",
   "metadata": {},
   "outputs": [
    {
     "data": {
      "text/plain": [
       "LabelEncoder()"
      ]
     },
     "execution_count": 3,
     "metadata": {},
     "output_type": "execute_result"
    }
   ],
   "source": [
    "import re\n",
    "def string_to_array(seq_string):\n",
    "   seq_string = seq_string.lower()\n",
    "   seq_string = re.sub('[^acgt]', 'n', seq_string)\n",
    "   seq_string = np.array(list(seq_string))\n",
    "   return seq_string\n",
    "# create a label encoder with 'acgtn' alphabet\n",
    "from sklearn.preprocessing import LabelEncoder\n",
    "label_encoder = LabelEncoder()\n",
    "label_encoder.fit(np.array(['A','C','G','T','z']))"
   ]
  },
  {
   "cell_type": "code",
   "execution_count": 4,
   "id": "b1109ee7",
   "metadata": {},
   "outputs": [],
   "source": [
    "from sklearn.preprocessing import OneHotEncoder\n",
    "def one_hot_encoder(seq_string):\n",
    "    int_encoded = label_encoder.transform(seq_string)\n",
    "    onehot_encoder = OneHotEncoder(sparse=False, dtype=int)\n",
    "    int_encoded = int_encoded.reshape(len(int_encoded), 1)\n",
    "    onehot_encoded = onehot_encoder.fit_transform(int_encoded)\n",
    "    return onehot_encoded"
   ]
  },
  {
   "cell_type": "code",
   "execution_count": 5,
   "id": "935fe615",
   "metadata": {},
   "outputs": [],
   "source": [
    "import keras\n",
    "one_hot_seqs=[one_hot_encoder(i) for i in seqs]\n",
    "padded_seqs=keras.preprocessing.sequence.pad_sequences(one_hot_seqs,value=0.0)\n",
    "X=padded_seqs.reshape(padded_seqs.shape[0],padded_seqs.shape[1]*padded_seqs.shape[2])"
   ]
  },
  {
   "cell_type": "code",
   "execution_count": 6,
   "id": "104165d4",
   "metadata": {},
   "outputs": [],
   "source": [
    "import sklearn\n",
    "from sklearn.decomposition import PCA\n",
    "\n",
    "PCA = PCA(n_components=2)\n",
    "PCA.fit(X)\n",
    "PCA_X = PCA.transform(X)"
   ]
  },
  {
   "cell_type": "code",
   "execution_count": 7,
   "id": "2afe9a9c",
   "metadata": {
    "scrolled": true
   },
   "outputs": [
    {
     "data": {
      "image/png": "[encoded data removed]",
      "text/plain": [
       "<Figure size 432x288 with 1 Axes>"
      ]
     },
     "metadata": {
      "needs_background": "light"
     },
     "output_type": "display_data"
    }
   ],
   "source": [
    "#Elbo method for selecting optimal number of clusters\n",
    "\n",
    "from sklearn.cluster import KMeans\n",
    "inertias = []\n",
    "\n",
    "# Creating 10 K-Mean models while varying the number of clusters (k)\n",
    "for k in range(1,10):\n",
    "    model = KMeans(n_clusters=k,       )\n",
    "    \n",
    "    # Fit model to samples\n",
    "    model.fit(PCA_X)\n",
    "    \n",
    "    # Append the inertia to the list of inertias\n",
    "    inertias.append(model.inertia_)\n",
    "    \n",
    "plt.plot(range(1,10), inertias, '-p', color='gold')\n",
    "plt.xlabel('number of clusters, k')\n",
    "plt.ylabel('inertia')\n",
    "plt.show()"
   ]
  },
  {
   "cell_type": "code",
   "execution_count": 8,
   "id": "db9009f7",
   "metadata": {},
   "outputs": [
    {
     "data": {
      "image/png": "[encoded data removed]",
      "text/plain": [
       "<Figure size 432x288 with 1 Axes>"
      ]
     },
     "metadata": {
      "needs_background": "light"
     },
     "output_type": "display_data"
    }
   ],
   "source": [
    "model = KMeans(n_clusters=3)\n",
    "model.fit(PCA_X)\n",
    "\n",
    "labels = model.predict(PCA_X)\n",
    "plt.scatter(PCA_X.T[0], PCA_X.T[1], c=labels)\n",
    "plt.show()"
   ]
  }
 ],
 "metadata": {
  "kernelspec": {
   "display_name": "Python 3",
   "language": "python",
   "name": "python3"
  },
  "language_info": {
   "codemirror_mode": {
    "name": "ipython",
    "version": 3
   },
   "file_extension": ".py",
   "mimetype": "text/x-python",
   "name": "python",
   "nbconvert_exporter": "python",
   "pygments_lexer": "ipython3",
   "version": "3.7.10"
  }
 },
 "nbformat": 4,
 "nbformat_minor": 5
}
